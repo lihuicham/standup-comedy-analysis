{
 "cells": [
  {
   "cell_type": "markdown",
   "id": "2c8f3a69",
   "metadata": {},
   "source": [
    "# Sentiment Analysis\n",
    "\n",
    "**Order of word** matters in sentiment analysis. Therefore, we will be using **corpus** (NOT document-term matrix). Negation of words such as \"not smart\" will affect the sentiment scores, hence order of word is important.  \n",
    "\n",
    "We will use two approaches for sentiment analysis : \n",
    "1. Rule-based approach \n",
    "2. Machine learning appraoch \n",
    "\n",
    "### Further explanation of approaches \n",
    "**1. Rule-based approach** (covered in this notebook)  \n",
    "    A practical approach to analyse text without training machine learning models. The result of this approach is the Polarity and Subjectivity score of each text based on a pre-defined and manually created set of rules. The rules are known as lexicons, hence this approach is also called Lexicon-based approach. We use the **`TextBlob`** and **`Vader`** modules for this approach. \n",
    "    \n",
    "**2. Machine learning approach** (covered in 4.5-Sentiment-Analysis-Classification)  \n",
    "    An algorithm that learns from training data. We can train a classification model with the text as features and `?` as our target variables. We will explore two text classification models, namely **Logistic Regression** and **Naive Bayes**. "
   ]
  },
  {
   "cell_type": "code",
   "execution_count": 3,
   "id": "29df3494",
   "metadata": {},
   "outputs": [],
   "source": [
    "import pandas as pd\n",
    "import matplotlib.pyplot as plt \n",
    "import pickle\n",
    "from textblob import TextBlob\n",
    "from vaderSentiment.vaderSentiment import SentimentIntensityAnalyzer "
   ]
  },
  {
   "cell_type": "code",
   "execution_count": 60,
   "id": "fabf926a",
   "metadata": {},
   "outputs": [
    {
     "data": {
      "text/html": [
       "<div>\n",
       "<style scoped>\n",
       "    .dataframe tbody tr th:only-of-type {\n",
       "        vertical-align: middle;\n",
       "    }\n",
       "\n",
       "    .dataframe tbody tr th {\n",
       "        vertical-align: top;\n",
       "    }\n",
       "\n",
       "    .dataframe thead th {\n",
       "        text-align: right;\n",
       "    }\n",
       "</style>\n",
       "<table border=\"1\" class=\"dataframe\">\n",
       "  <thead>\n",
       "    <tr style=\"text-align: right;\">\n",
       "      <th></th>\n",
       "      <th>Comedian</th>\n",
       "      <th>Date</th>\n",
       "      <th>Title</th>\n",
       "      <th>Subtitle</th>\n",
       "      <th>Transcript</th>\n",
       "    </tr>\n",
       "  </thead>\n",
       "  <tbody>\n",
       "    <tr>\n",
       "      <th>0</th>\n",
       "      <td>Chris Rock</td>\n",
       "      <td>March 8, 2023</td>\n",
       "      <td>Selective Outrage (2023) | Transcript</td>\n",
       "      <td>NaN</td>\n",
       "      <td>lets go    she said  ill do anything you w...</td>\n",
       "    </tr>\n",
       "    <tr>\n",
       "      <th>1</th>\n",
       "      <td>Marc Maron</td>\n",
       "      <td>March 3, 2023</td>\n",
       "      <td>Thinky Pain (2013) | Transcript</td>\n",
       "      <td>Marc Maron returns to his old stomping grounds...</td>\n",
       "      <td>i dont know what you were thinking like im no...</td>\n",
       "    </tr>\n",
       "    <tr>\n",
       "      <th>2</th>\n",
       "      <td>Chelsea Handler</td>\n",
       "      <td>March 3, 2023</td>\n",
       "      <td>Evolution (2020) | Transcript</td>\n",
       "      <td>Chelsea Handler is back and better than ever -...</td>\n",
       "      <td>join me in welcoming the author of six number ...</td>\n",
       "    </tr>\n",
       "    <tr>\n",
       "      <th>3</th>\n",
       "      <td>Tom Papa</td>\n",
       "      <td>March 3, 2023</td>\n",
       "      <td>What A Day! (2022) | Transcript</td>\n",
       "      <td>Follows Papa as he shares about parenting, his...</td>\n",
       "      <td>premiered on december   ladies and gentlemen g...</td>\n",
       "    </tr>\n",
       "    <tr>\n",
       "      <th>4</th>\n",
       "      <td>Jim Jefferies</td>\n",
       "      <td>February 22, 2023</td>\n",
       "      <td>High n’ Dry (2023) | Transcript</td>\n",
       "      <td>Jim Jefferies is back and no topic is off limi...</td>\n",
       "      <td>please welcome to the stage jim jefferies hell...</td>\n",
       "    </tr>\n",
       "  </tbody>\n",
       "</table>\n",
       "</div>"
      ],
      "text/plain": [
       "          Comedian               Date                                  Title  \\\n",
       "0       Chris Rock      March 8, 2023  Selective Outrage (2023) | Transcript   \n",
       "1       Marc Maron      March 3, 2023        Thinky Pain (2013) | Transcript   \n",
       "2  Chelsea Handler      March 3, 2023          Evolution (2020) | Transcript   \n",
       "3         Tom Papa      March 3, 2023        What A Day! (2022) | Transcript   \n",
       "4    Jim Jefferies  February 22, 2023        High n’ Dry (2023) | Transcript   \n",
       "\n",
       "                                            Subtitle  \\\n",
       "0                                                NaN   \n",
       "1  Marc Maron returns to his old stomping grounds...   \n",
       "2  Chelsea Handler is back and better than ever -...   \n",
       "3  Follows Papa as he shares about parenting, his...   \n",
       "4  Jim Jefferies is back and no topic is off limi...   \n",
       "\n",
       "                                          Transcript  \n",
       "0      lets go    she said  ill do anything you w...  \n",
       "1   i dont know what you were thinking like im no...  \n",
       "2  join me in welcoming the author of six number ...  \n",
       "3  premiered on december   ladies and gentlemen g...  \n",
       "4  please welcome to the stage jim jefferies hell...  "
      ]
     },
     "execution_count": 60,
     "metadata": {},
     "output_type": "execute_result"
    }
   ],
   "source": [
    "# load corpus \n",
    "df = pd.read_pickle('/Users/lihuicham/Desktop/Y2S2/BT4222/project/standup-comedy-analysis/main/pickle/corpus.pkl')\n",
    "df.head()"
   ]
  },
  {
   "cell_type": "markdown",
   "id": "ec5b332e",
   "metadata": {},
   "source": [
    "## Rule-based Approach \n",
    "\n",
    "We use the `TextBlob` and `Vader` modules for rule-based approach. Linguists have labelled the sentiment of words and the sentiment can vary based on its order and position in the sentence. Each corpus (in our case, each transcript) is labelled in terms of **polarity** and **subjectivity**. A corpus's sentiment is the *average* of these. \n",
    "\n",
    "`Vader` is used widely in analysing social media texts as it takes into account repeated words, punctuations (such as exclamation mark), capitalisation of words and even emojis. \n",
    "\n",
    "### Metrics in the modules \n",
    "\n",
    "**TextBlob :** \n",
    "\n",
    "* **Polarity :** How positive or negative a word is, with a range of [-1.0, +1.0].  \n",
    "    -1.0 is very negative; +1.0 is very positive. \n",
    "* **Subjectivity :** How subjective or opinionated a word is, with a range of [0.0, 1.0].   \n",
    "    0.0 is very objective (facts); 1.0 is very subjective (opinions). \n",
    "    \n",
    "**Vader :** \n",
    "* positive sentiment: compound score >= 0.05\n",
    "* neutral sentiment: (compound score > -0.05) and (compound score < 0.05)\n",
    "* negative sentiment: compound score <= -0.05"
   ]
  },
  {
   "cell_type": "markdown",
   "id": "cbeff394",
   "metadata": {},
   "source": [
    "### TextBlob "
   ]
  },
  {
   "cell_type": "code",
   "execution_count": 32,
   "id": "243e08ee",
   "metadata": {},
   "outputs": [],
   "source": [
    "# lambda functions for TextBlob to find polarity and subjectivity of each transcript \n",
    "pol = lambda x: TextBlob(x).sentiment.polarity\n",
    "sub = lambda x: TextBlob(x).sentiment.subjectivity"
   ]
  },
  {
   "cell_type": "code",
   "execution_count": null,
   "id": "506f4490",
   "metadata": {},
   "outputs": [],
   "source": [
    "df_textblob = df.copy()"
   ]
  },
  {
   "cell_type": "code",
   "execution_count": 33,
   "id": "bd5acb8a",
   "metadata": {},
   "outputs": [],
   "source": [
    "# get the polarity and subjectivity score of each transcript \n",
    "df_textblob['Polarity_Score'] = df_textblob['Transcript'].apply(pol)\n",
    "df_textblob['Subjectivity_Score'] = df_textblob['Transcript'].apply(sub)"
   ]
  },
  {
   "cell_type": "code",
   "execution_count": 34,
   "id": "380c1d3f",
   "metadata": {},
   "outputs": [],
   "source": [
    "# assign binary class for polarity based on polarity score\n",
    "df_textblob['Polarity_Class'] = 0\n",
    "df_textblob.loc[df_textblob.Polarity_Score >= 0,'Polarity_Class']= 1\n",
    "df_textblob.loc[df_textblob.Polarity_Score < 0,'Polarity_Class']= 0\n",
    "\n",
    "# assign binary class for polarity based on polarity score\n",
    "df_textblob['Subjectivity_Class'] = 0\n",
    "df_textblob.loc[df_textblob.Subjectivity_Score >= 0.5,'Subjectivity_Class']= 1\n",
    "df_textblob.loc[df_textblob.Subjectivity_Score < 0.5,'Subjectivity_Class']= 0"
   ]
  },
  {
   "cell_type": "code",
   "execution_count": 35,
   "id": "2c863dfb",
   "metadata": {},
   "outputs": [],
   "source": [
    "df_textblob.to_csv('sentiments_textblob.csv')"
   ]
  },
  {
   "cell_type": "code",
   "execution_count": 36,
   "id": "0d600053",
   "metadata": {},
   "outputs": [
    {
     "data": {
      "text/html": [
       "<div>\n",
       "<style scoped>\n",
       "    .dataframe tbody tr th:only-of-type {\n",
       "        vertical-align: middle;\n",
       "    }\n",
       "\n",
       "    .dataframe tbody tr th {\n",
       "        vertical-align: top;\n",
       "    }\n",
       "\n",
       "    .dataframe thead th {\n",
       "        text-align: right;\n",
       "    }\n",
       "</style>\n",
       "<table border=\"1\" class=\"dataframe\">\n",
       "  <thead>\n",
       "    <tr style=\"text-align: right;\">\n",
       "      <th></th>\n",
       "      <th>Comedian</th>\n",
       "      <th>Date</th>\n",
       "      <th>Title</th>\n",
       "      <th>Subtitle</th>\n",
       "      <th>Transcript</th>\n",
       "      <th>Polarity_Score</th>\n",
       "      <th>Subjectivity_Score</th>\n",
       "      <th>Polarity_Class</th>\n",
       "      <th>Subjectivity_Class</th>\n",
       "    </tr>\n",
       "  </thead>\n",
       "  <tbody>\n",
       "    <tr>\n",
       "      <th>0</th>\n",
       "      <td>Chris Rock</td>\n",
       "      <td>March 8, 2023</td>\n",
       "      <td>Selective Outrage (2023) | Transcript</td>\n",
       "      <td>NaN</td>\n",
       "      <td>lets go    she said  ill do anything you w...</td>\n",
       "      <td>0.053924</td>\n",
       "      <td>0.537392</td>\n",
       "      <td>1</td>\n",
       "      <td>1</td>\n",
       "    </tr>\n",
       "    <tr>\n",
       "      <th>1</th>\n",
       "      <td>Marc Maron</td>\n",
       "      <td>March 3, 2023</td>\n",
       "      <td>Thinky Pain (2013) | Transcript</td>\n",
       "      <td>Marc Maron returns to his old stomping grounds...</td>\n",
       "      <td>i dont know what you were thinking like im no...</td>\n",
       "      <td>0.039222</td>\n",
       "      <td>0.527340</td>\n",
       "      <td>1</td>\n",
       "      <td>1</td>\n",
       "    </tr>\n",
       "    <tr>\n",
       "      <th>2</th>\n",
       "      <td>Chelsea Handler</td>\n",
       "      <td>March 3, 2023</td>\n",
       "      <td>Evolution (2020) | Transcript</td>\n",
       "      <td>Chelsea Handler is back and better than ever -...</td>\n",
       "      <td>join me in welcoming the author of six number ...</td>\n",
       "      <td>0.028674</td>\n",
       "      <td>0.496281</td>\n",
       "      <td>1</td>\n",
       "      <td>0</td>\n",
       "    </tr>\n",
       "    <tr>\n",
       "      <th>3</th>\n",
       "      <td>Tom Papa</td>\n",
       "      <td>March 3, 2023</td>\n",
       "      <td>What A Day! (2022) | Transcript</td>\n",
       "      <td>Follows Papa as he shares about parenting, his...</td>\n",
       "      <td>premiered on december   ladies and gentlemen g...</td>\n",
       "      <td>0.040564</td>\n",
       "      <td>0.541739</td>\n",
       "      <td>1</td>\n",
       "      <td>1</td>\n",
       "    </tr>\n",
       "    <tr>\n",
       "      <th>4</th>\n",
       "      <td>Jim Jefferies</td>\n",
       "      <td>February 22, 2023</td>\n",
       "      <td>High n’ Dry (2023) | Transcript</td>\n",
       "      <td>Jim Jefferies is back and no topic is off limi...</td>\n",
       "      <td>please welcome to the stage jim jefferies hell...</td>\n",
       "      <td>0.059485</td>\n",
       "      <td>0.540981</td>\n",
       "      <td>1</td>\n",
       "      <td>1</td>\n",
       "    </tr>\n",
       "  </tbody>\n",
       "</table>\n",
       "</div>"
      ],
      "text/plain": [
       "          Comedian               Date                                  Title  \\\n",
       "0       Chris Rock      March 8, 2023  Selective Outrage (2023) | Transcript   \n",
       "1       Marc Maron      March 3, 2023        Thinky Pain (2013) | Transcript   \n",
       "2  Chelsea Handler      March 3, 2023          Evolution (2020) | Transcript   \n",
       "3         Tom Papa      March 3, 2023        What A Day! (2022) | Transcript   \n",
       "4    Jim Jefferies  February 22, 2023        High n’ Dry (2023) | Transcript   \n",
       "\n",
       "                                            Subtitle  \\\n",
       "0                                                NaN   \n",
       "1  Marc Maron returns to his old stomping grounds...   \n",
       "2  Chelsea Handler is back and better than ever -...   \n",
       "3  Follows Papa as he shares about parenting, his...   \n",
       "4  Jim Jefferies is back and no topic is off limi...   \n",
       "\n",
       "                                          Transcript  Polarity_Score  \\\n",
       "0      lets go    she said  ill do anything you w...        0.053924   \n",
       "1   i dont know what you were thinking like im no...        0.039222   \n",
       "2  join me in welcoming the author of six number ...        0.028674   \n",
       "3  premiered on december   ladies and gentlemen g...        0.040564   \n",
       "4  please welcome to the stage jim jefferies hell...        0.059485   \n",
       "\n",
       "   Subjectivity_Score  Polarity_Class  Subjectivity_Class  \n",
       "0            0.537392               1                   1  \n",
       "1            0.527340               1                   1  \n",
       "2            0.496281               1                   0  \n",
       "3            0.541739               1                   1  \n",
       "4            0.540981               1                   1  "
      ]
     },
     "execution_count": 36,
     "metadata": {},
     "output_type": "execute_result"
    }
   ],
   "source": [
    "df_textblob.head()"
   ]
  },
  {
   "cell_type": "code",
   "execution_count": 37,
   "id": "cf3a5ec7",
   "metadata": {},
   "outputs": [
    {
     "data": {
      "image/png": "[encoded data removed]",
      "text/plain": [
       "<Figure size 1000x800 with 1 Axes>"
      ]
     },
     "metadata": {},
     "output_type": "display_data"
    }
   ],
   "source": [
    "# plotting the results \n",
    "\n",
    "plt.rcParams['figure.figsize'] = [10, 8]\n",
    "\n",
    "for index, transcript in enumerate(df_textblob.index):\n",
    "    x = df_textblob.Polarity_Score.loc[transcript]\n",
    "    y = df_textblob.Subjectivity_Score.loc[transcript]\n",
    "    plt.scatter(x, y, color='blue')\n",
    "#     plt.text(x+.001, y+.001, df['Comedian'][index], fontsize=10)\n",
    "#     plt.xlim(-.10, .12) \n",
    "    \n",
    "plt.title('Sentiment Analysis', fontsize=20)\n",
    "plt.xlabel('<-- Negative -------- Positive -->', fontsize=15)\n",
    "plt.ylabel('<-- Facts -------- Opinions -->', fontsize=15)\n",
    "\n",
    "plt.show()"
   ]
  },
  {
   "cell_type": "code",
   "execution_count": 39,
   "id": "8d77ff89",
   "metadata": {},
   "outputs": [
    {
     "data": {
      "text/plain": [
       "<AxesSubplot:title={'center':'Polarity with TextBlob'}>"
      ]
     },
     "execution_count": 39,
     "metadata": {},
     "output_type": "execute_result"
    },
    {
     "data": {
      "image/png": "[encoded data removed]",
      "text/plain": [
       "<Figure size 1000x800 with 1 Axes>"
      ]
     },
     "metadata": {},
     "output_type": "display_data"
    }
   ],
   "source": [
    "df_textblob.Polarity_Class.value_counts().plot(kind='bar',title=\"Polarity with TextBlob\")"
   ]
  },
  {
   "cell_type": "code",
   "execution_count": 40,
   "id": "cd2d8ba4",
   "metadata": {},
   "outputs": [
    {
     "data": {
      "text/plain": [
       "<AxesSubplot:title={'center':'Subjectivity with TextBlob'}>"
      ]
     },
     "execution_count": 40,
     "metadata": {},
     "output_type": "execute_result"
    },
    {
     "data": {
      "image/png": "[encoded data removed]",
      "text/plain": [
       "<Figure size 1000x800 with 1 Axes>"
      ]
     },
     "metadata": {},
     "output_type": "display_data"
    }
   ],
   "source": [
    "df_textblob.Subjectivity_Class.value_counts().plot(kind='bar',title=\"Subjectivity with TextBlob\")"
   ]
  },
  {
   "cell_type": "markdown",
   "id": "3e5effb8",
   "metadata": {},
   "source": [
    "### Vader"
   ]
  },
  {
   "cell_type": "code",
   "execution_count": 43,
   "id": "9cb1e65d",
   "metadata": {},
   "outputs": [],
   "source": [
    "# create a lambda function for Vader\n",
    "pol_vader = lambda x: SentimentIntensityAnalyzer().polarity_scores(x)"
   ]
  },
  {
   "cell_type": "code",
   "execution_count": null,
   "id": "27f7d3d6",
   "metadata": {},
   "outputs": [],
   "source": [
    "df_vader = df.copy()"
   ]
  },
  {
   "cell_type": "code",
   "execution_count": 63,
   "id": "0bd18eeb",
   "metadata": {},
   "outputs": [],
   "source": [
    "# this code takes some time to run \n",
    "df_vader['Polarity_Score'] = df_vader['Transcript'].apply(pol_vader)"
   ]
  },
  {
   "cell_type": "code",
   "execution_count": 66,
   "id": "59d6789a",
   "metadata": {},
   "outputs": [],
   "source": [
    "df_vader['Compound_Score'] = df_vader['Polarity_Score'].apply(lambda score_dict: score_dict['compound'])"
   ]
  },
  {
   "cell_type": "code",
   "execution_count": 76,
   "id": "40845f25",
   "metadata": {},
   "outputs": [],
   "source": [
    "df_vader.loc[df_vader.Compound_Score >= 0.5,'Polarity_Class']= 1                                         # positive \n",
    "df_vader.loc[(df_vader.Compound_Score > -0.05) & (df_vader.Compound_Score < 0.05),'Polarity_Class']= 0   # neutral \n",
    "df_vader.loc[df_vader.Compound_Score <= -0.05,'Polarity_Class']= -1                                      # negative"
   ]
  },
  {
   "cell_type": "code",
   "execution_count": 71,
   "id": "73663b90",
   "metadata": {},
   "outputs": [
    {
     "data": {
      "text/plain": [
       "<AxesSubplot:title={'center':'Polarity with Vader'}>"
      ]
     },
     "execution_count": 71,
     "metadata": {},
     "output_type": "execute_result"
    },
    {
     "data": {
      "image/png": "[encoded data removed]",
      "text/plain": [
       "<Figure size 1000x800 with 1 Axes>"
      ]
     },
     "metadata": {},
     "output_type": "display_data"
    }
   ],
   "source": [
    "df_vader.Polarity_Class.value_counts().plot(kind='bar',title=\"Polarity with Vader\")"
   ]
  },
  {
   "cell_type": "markdown",
   "id": "3d249a2a",
   "metadata": {},
   "source": [
    "Since there is no `neutral` class, let's remove it and change the threshold value to determine the binary classification of Polarity for Vader. "
   ]
  },
  {
   "cell_type": "code",
   "execution_count": 78,
   "id": "112aa23d",
   "metadata": {},
   "outputs": [],
   "source": [
    "df_vader.loc[df_vader.Compound_Score >= 0,'Polarity_Class']= 1                                         \n",
    "df_vader.loc[df_vader.Compound_Score < 0,'Polarity_Class']= 0                                 "
   ]
  },
  {
   "cell_type": "code",
   "execution_count": 79,
   "id": "04487dde",
   "metadata": {},
   "outputs": [],
   "source": [
    "df_vader.to_csv('sentiments_vader.csv')"
   ]
  },
  {
   "cell_type": "code",
   "execution_count": 75,
   "id": "11527cd8",
   "metadata": {},
   "outputs": [
    {
     "data": {
      "text/html": [
       "<div>\n",
       "<style scoped>\n",
       "    .dataframe tbody tr th:only-of-type {\n",
       "        vertical-align: middle;\n",
       "    }\n",
       "\n",
       "    .dataframe tbody tr th {\n",
       "        vertical-align: top;\n",
       "    }\n",
       "\n",
       "    .dataframe thead th {\n",
       "        text-align: right;\n",
       "    }\n",
       "</style>\n",
       "<table border=\"1\" class=\"dataframe\">\n",
       "  <thead>\n",
       "    <tr style=\"text-align: right;\">\n",
       "      <th></th>\n",
       "      <th>Comedian</th>\n",
       "      <th>Date</th>\n",
       "      <th>Title</th>\n",
       "      <th>Subtitle</th>\n",
       "      <th>Transcript</th>\n",
       "      <th>Polarity_Score</th>\n",
       "      <th>Compound_Score</th>\n",
       "      <th>Polarity_Class</th>\n",
       "    </tr>\n",
       "  </thead>\n",
       "  <tbody>\n",
       "    <tr>\n",
       "      <th>0</th>\n",
       "      <td>Chris Rock</td>\n",
       "      <td>March 8, 2023</td>\n",
       "      <td>Selective Outrage (2023) | Transcript</td>\n",
       "      <td>NaN</td>\n",
       "      <td>lets go    she said  ill do anything you w...</td>\n",
       "      <td>{'neg': 0.158, 'neu': 0.682, 'pos': 0.16, 'com...</td>\n",
       "      <td>-0.9986</td>\n",
       "      <td>0</td>\n",
       "    </tr>\n",
       "    <tr>\n",
       "      <th>1</th>\n",
       "      <td>Marc Maron</td>\n",
       "      <td>March 3, 2023</td>\n",
       "      <td>Thinky Pain (2013) | Transcript</td>\n",
       "      <td>Marc Maron returns to his old stomping grounds...</td>\n",
       "      <td>i dont know what you were thinking like im no...</td>\n",
       "      <td>{'neg': 0.094, 'neu': 0.76, 'pos': 0.146, 'com...</td>\n",
       "      <td>1.0000</td>\n",
       "      <td>1</td>\n",
       "    </tr>\n",
       "    <tr>\n",
       "      <th>2</th>\n",
       "      <td>Chelsea Handler</td>\n",
       "      <td>March 3, 2023</td>\n",
       "      <td>Evolution (2020) | Transcript</td>\n",
       "      <td>Chelsea Handler is back and better than ever -...</td>\n",
       "      <td>join me in welcoming the author of six number ...</td>\n",
       "      <td>{'neg': 0.095, 'neu': 0.749, 'pos': 0.156, 'co...</td>\n",
       "      <td>1.0000</td>\n",
       "      <td>1</td>\n",
       "    </tr>\n",
       "    <tr>\n",
       "      <th>3</th>\n",
       "      <td>Tom Papa</td>\n",
       "      <td>March 3, 2023</td>\n",
       "      <td>What A Day! (2022) | Transcript</td>\n",
       "      <td>Follows Papa as he shares about parenting, his...</td>\n",
       "      <td>premiered on december   ladies and gentlemen g...</td>\n",
       "      <td>{'neg': 0.121, 'neu': 0.75, 'pos': 0.128, 'com...</td>\n",
       "      <td>0.9965</td>\n",
       "      <td>1</td>\n",
       "    </tr>\n",
       "    <tr>\n",
       "      <th>4</th>\n",
       "      <td>Jim Jefferies</td>\n",
       "      <td>February 22, 2023</td>\n",
       "      <td>High n’ Dry (2023) | Transcript</td>\n",
       "      <td>Jim Jefferies is back and no topic is off limi...</td>\n",
       "      <td>please welcome to the stage jim jefferies hell...</td>\n",
       "      <td>{'neg': 0.108, 'neu': 0.756, 'pos': 0.136, 'co...</td>\n",
       "      <td>0.9997</td>\n",
       "      <td>1</td>\n",
       "    </tr>\n",
       "  </tbody>\n",
       "</table>\n",
       "</div>"
      ],
      "text/plain": [
       "          Comedian               Date                                  Title  \\\n",
       "0       Chris Rock      March 8, 2023  Selective Outrage (2023) | Transcript   \n",
       "1       Marc Maron      March 3, 2023        Thinky Pain (2013) | Transcript   \n",
       "2  Chelsea Handler      March 3, 2023          Evolution (2020) | Transcript   \n",
       "3         Tom Papa      March 3, 2023        What A Day! (2022) | Transcript   \n",
       "4    Jim Jefferies  February 22, 2023        High n’ Dry (2023) | Transcript   \n",
       "\n",
       "                                            Subtitle  \\\n",
       "0                                                NaN   \n",
       "1  Marc Maron returns to his old stomping grounds...   \n",
       "2  Chelsea Handler is back and better than ever -...   \n",
       "3  Follows Papa as he shares about parenting, his...   \n",
       "4  Jim Jefferies is back and no topic is off limi...   \n",
       "\n",
       "                                          Transcript  \\\n",
       "0      lets go    she said  ill do anything you w...   \n",
       "1   i dont know what you were thinking like im no...   \n",
       "2  join me in welcoming the author of six number ...   \n",
       "3  premiered on december   ladies and gentlemen g...   \n",
       "4  please welcome to the stage jim jefferies hell...   \n",
       "\n",
       "                                      Polarity_Score  Compound_Score  \\\n",
       "0  {'neg': 0.158, 'neu': 0.682, 'pos': 0.16, 'com...         -0.9986   \n",
       "1  {'neg': 0.094, 'neu': 0.76, 'pos': 0.146, 'com...          1.0000   \n",
       "2  {'neg': 0.095, 'neu': 0.749, 'pos': 0.156, 'co...          1.0000   \n",
       "3  {'neg': 0.121, 'neu': 0.75, 'pos': 0.128, 'com...          0.9965   \n",
       "4  {'neg': 0.108, 'neu': 0.756, 'pos': 0.136, 'co...          0.9997   \n",
       "\n",
       "   Polarity_Class  \n",
       "0               0  \n",
       "1               1  \n",
       "2               1  \n",
       "3               1  \n",
       "4               1  "
      ]
     },
     "execution_count": 75,
     "metadata": {},
     "output_type": "execute_result"
    }
   ],
   "source": [
    "df_vader.head()"
   ]
  },
  {
   "cell_type": "code",
   "execution_count": 80,
   "id": "671dc613",
   "metadata": {},
   "outputs": [
    {
     "data": {
      "text/plain": [
       "<AxesSubplot:title={'center':'Polarity with Vader'}>"
      ]
     },
     "execution_count": 80,
     "metadata": {},
     "output_type": "execute_result"
    },
    {
     "data": {
      "image/png": "[encoded data removed]",
      "text/plain": [
       "<Figure size 1000x800 with 1 Axes>"
      ]
     },
     "metadata": {},
     "output_type": "display_data"
    }
   ],
   "source": [
    "df_vader.Polarity_Class.value_counts().plot(kind='bar',title=\"Polarity with Vader\")"
   ]
  },
  {
   "cell_type": "code",
   "execution_count": 81,
   "id": "f666f692",
   "metadata": {},
   "outputs": [],
   "source": [
    "# pickle files \n",
    "import pickle \n",
    "\n",
    "with open('pickle/' + 'sentiments_textblob.pkl', 'wb') as f:\n",
    "    pickle.dump(df_textblob, f)\n",
    "\n",
    "with open('pickle/' + 'sentiments_vader.pkl', 'wb') as f:\n",
    "    pickle.dump(df_vader, f)"
   ]
  },
  {
   "cell_type": "markdown",
   "id": "ae59c3ff",
   "metadata": {},
   "source": [
    "## TextBlob vs Vader \n",
    "Vader classifies more negative class than TextBlob. "
   ]
  },
  {
   "cell_type": "code",
   "execution_count": 4,
   "id": "467f0706",
   "metadata": {},
   "outputs": [
    {
     "name": "stdout",
     "output_type": "stream",
     "text": [
      "1    350\n",
      "0     65\n",
      "Name: Polarity_Class, dtype: int64\n"
     ]
    }
   ],
   "source": [
    "# load pickle for textblob dataframe \n",
    "df_textblob = pd.read_pickle('/Users/lihuicham/Desktop/Y2S2/BT4222/project/standup-comedy-analysis/main/pickle/sentiments_textblob.pkl')\n",
    "print(df_textblob['Polarity_Class'].value_counts())"
   ]
  },
  {
   "cell_type": "code",
   "execution_count": 5,
   "id": "43e546cc",
   "metadata": {},
   "outputs": [
    {
     "name": "stdout",
     "output_type": "stream",
     "text": [
      "1    308\n",
      "0    107\n",
      "Name: Polarity_Class, dtype: int64\n"
     ]
    }
   ],
   "source": [
    "# load pickle for vader dataframe \n",
    "df_vader = pd.read_pickle('/Users/lihuicham/Desktop/Y2S2/BT4222/project/standup-comedy-analysis/main/pickle/sentiments_vader.pkl')\n",
    "print(df_vader['Polarity_Class'].value_counts())"
   ]
  }
 ],
 "metadata": {
  "kernelspec": {
   "display_name": "Python 3 (ipykernel)",
   "language": "python",
   "name": "python3"
  },
  "language_info": {
   "codemirror_mode": {
    "name": "ipython",
    "version": 3
   },
   "file_extension": ".py",
   "mimetype": "text/x-python",
   "name": "python",
   "nbconvert_exporter": "python",
   "pygments_lexer": "ipython3",
   "version": "3.9.13"
  }
 },
 "nbformat": 4,
 "nbformat_minor": 5
}
